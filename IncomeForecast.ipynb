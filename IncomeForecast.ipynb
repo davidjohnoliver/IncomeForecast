{
 "cells": [
  {
   "cell_type": "code",
   "execution_count": 13,
   "metadata": {},
   "outputs": [],
   "source": [
    "# Imports\n",
    "import sim\n",
    "import solve\n",
    "import rulesets\n",
    "\n",
    "# Birth year\n",
    "year_of_birth = 0\n",
    "\n",
    "# Retirement goals\n",
    "age_at_retirement = 0\n",
    "age_at_death = 0\n",
    "savings_at_death = 0\n",
    "retirement_income = 0\n",
    "\n",
    "# Initial conditions\n",
    "initial_year = 0\n",
    "initial_salary = 0\n",
    "initial_savings_rrsp = 0\n",
    "initial_savings_tfsa = 0\n",
    "\n",
    "# Salary model parameters\n",
    "# salary_plateau = the most you will ever earn - your salary will plateau when it reaches this figure\n",
    "# salary_compound_rate = the rate at which your salary compounds per year, until it reaches the plateau. (Aka, your yearly raise.)\n",
    "salary_plateau = 0\n",
    "salary_compound_rate = 0.00\n",
    "\n",
    "# Spending model parameters\n",
    "# base_spending = 'Basic needs' spending, notionally the bare minimum yearly expenditure you need to get by. Expenditure above this is dubbed 'luxury spending'\n",
    "# spending_luxury_compound_rate = the rate at which 'luxury spending' compounds. \n",
    "# These parameters can be tweaked to vary the distribution of early saving vs late saving\n",
    "base_spending = 0\n",
    "spending_luxury_compound_rate = 0.00\n",
    "\n",
    "# Savings parameters\n",
    "# initial_rrsp_allotment = the fraction of savings that is put into RRSP in the first year\n",
    "# final_rrsp_allotment = the fraction of savings that is put into RRSP in the last year\n",
    "# The actual split is a linear interpolation between the two values. This is intended as an exploratory model to find roughly optimal trends.\n",
    "initial_rrsp_allotment = 0.00\n",
    "final_rrsp_allotment = 0.00\n",
    "\n",
    "# The interest rate earned by savings.\n",
    "interest_rate = 0.00\n",
    "\n",
    "#\n",
    "simulation = sim.Simulation()\n",
    "simulation.year_of_birth = year_of_birth\n",
    "simulation.age_at_retirement = age_at_retirement\n",
    "simulation.age_at_death = age_at_death\n",
    "simulation.savings_at_death = savings_at_death\n",
    "simulation.initial_year = initial_year\n",
    "simulation.initial_salary = initial_salary\n",
    "simulation._initial_savings_rrsp = initial_savings_rrsp\n",
    "simulation.initial_savings_tfsa = initial_savings_tfsa\n",
    "\n",
    "simulation.set_solver(solve.binary_solver)\n",
    "\n",
    "career_rules, retirement_rules = rulesets.v1(\n",
    "    salary_compound_rate=salary_compound_rate,\n",
    "    salary_plateau=salary_plateau,\n",
    "    base_spending=base_spending,\n",
    "    spending_luxury_compound_rate=spending_luxury_compound_rate,\n",
    "    initial_rrsp_allotment=initial_rrsp_allotment,\n",
    "    final_rrsp_allotment=final_rrsp_allotment,\n",
    "    initial_year=simulation.initial_year,\n",
    "    year_of_retirement=simulation.year_of_retirement,\n",
    "    year_of_death=simulation.year_of_death,\n",
    "    retirement_income=retirement_income,\n",
    "    rrsp_interest_rate=interest_rate,\n",
    "    tfsa_interest_rate=interest_rate\n",
    ")\n"
   ]
  },
  {
   "cell_type": "code",
   "execution_count": 5,
   "metadata": {},
   "outputs": [],
   "source": [
    "#"
   ]
  },
  {
   "cell_type": "code",
   "execution_count": null,
   "metadata": {},
   "outputs": [],
   "source": [
    "#\n",
    "\n"
   ]
  }
 ],
 "metadata": {
  "file_extension": ".py",
  "kernelspec": {
   "display_name": "Python 3",
   "language": "python",
   "name": "python3"
  },
  "language_info": {
   "codemirror_mode": {
    "name": "ipython",
    "version": 3
   },
   "file_extension": ".py",
   "mimetype": "text/x-python",
   "name": "python",
   "nbconvert_exporter": "python",
   "pygments_lexer": "ipython3",
   "version": "3.6.5"
  },
  "mimetype": "text/x-python",
  "name": "python",
  "npconvert_exporter": "python",
  "pygments_lexer": "ipython3",
  "version": 3
 },
 "nbformat": 4,
 "nbformat_minor": 2
}
